{
  "nbformat": 4,
  "nbformat_minor": 0,
  "metadata": {
    "colab": {
      "provenance": []
    },
    "kernelspec": {
      "name": "python3",
      "display_name": "Python 3"
    },
    "language_info": {
      "name": "python"
    }
  },
  "cells": [
    {
      "cell_type": "code",
      "execution_count": 1,
      "metadata": {
        "id": "ub38lwY7iMAG"
      },
      "outputs": [],
      "source": [
        "from bs4 import BeautifulSoup\n",
        "try:\n",
        "    import requests\n",
        "except:\n",
        "    !pip install requests\n",
        "    import requests\n",
        "import csv"
      ]
    },
    {
      "cell_type": "markdown",
      "source": [],
      "metadata": {
        "id": "jZsI6xR8itNs"
      }
    },
    {
      "cell_type": "code",
      "source": [
        "url_domínio = 'https://www.imdb.com/'\n",
        "url_utilizada = 'https://www.imdb.com/search/title/?title_type=feature,tv_movie,short&start=1&ref_=adv_nxt'\n",
        "qnt_paginas = 20\n",
        "\n",
        "with open('dataset.csv', 'w', newline = '') as arquivo:\n",
        "  writer = csv.writer(arquivo)\n",
        "  writer.writerow(['Título', \"Ano\", 'Gêneros', 'Nota', 'Votacoes', 'Metascore'])\n",
        "\n",
        "  for p in range(qnt_paginas):\n",
        "    url = 'https://www.imdb.com/search/title/?title_type=feature,tv_movie,short&start='+str(p*50+1)+'&ref_=adv_nxt'\n",
        "    pag_populares = requests.get(url).text\n",
        "    # html.parser, lxml\n",
        "    soup = BeautifulSoup(pag_populares, 'lxml')\n",
        "\n",
        "\n",
        "    lista_filmes = soup.find_all('div', class_ = 'lister-item-content')\n",
        "    for filme in lista_filmes:\n",
        "\n",
        "      titulo = filme.find('a').text\n",
        "\n",
        "      ano = filme.find('span', class_ = 'lister-item-year text-muted unbold').text\n",
        "      ano = \"\".join(filter(lambda x: x.isnumeric(), ano))\n",
        "      if ano == \"\": ano = None\n",
        "      else: ano = int(ano)\n",
        "\n",
        "      generos = filme.find('span', class_ = 'genre').text.strip()\n",
        "\n",
        "      nota = filme.find('div', class_ = 'inline-block ratings-imdb-rating')\n",
        "      if nota != None: nota = float(nota['data-value'])\n",
        "\n",
        "      contagem_votacoes = filme.find('span', attrs={'name': 'nv'})\n",
        "      if contagem_votacoes != None: contagem_votacoes = int(contagem_votacoes['data-value'])\n",
        "\n",
        "      metascore = filme.find('span', class_ = 'metascore favorable')\n",
        "      if metascore != None: metascore = int(metascore.text)\n",
        "\n",
        "\n",
        "      linha = [titulo, ano, generos, nota, contagem_votacoes, metascore]\n",
        "      writer.writerow(linha)\n"
      ],
      "metadata": {
        "id": "HAPtH3b4it0g"
      },
      "execution_count": 14,
      "outputs": []
    }
  ]
}